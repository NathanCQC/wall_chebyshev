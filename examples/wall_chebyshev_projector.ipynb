{
 "cells": [
  {
   "cell_type": "code",
   "execution_count": 1,
   "id": "64adcf9d",
   "metadata": {},
   "outputs": [],
   "source": [
    "from wallcheb.qtmlib.circuits.lcu import LCUMultiplexorBox\n",
    "from guppylang import guppy\n",
    "from guppylang.std.builtins import comptime\n",
    "from guppylang.std.quantum import qubit, measure_array\n",
    "from guppylang.std.builtins import array, exit\n",
    "from typing import Callable\n"
   ]
  },
  {
   "cell_type": "code",
   "execution_count": 2,
   "id": "7d2beaff",
   "metadata": {},
   "outputs": [
    {
     "name": "stderr",
     "output_type": "stream",
     "text": [
      "/Users/nathanfitzpatric/Github/wall_chebyshev/wallcheb/operators/hubbard_model.py:54: ComplexWarning: Casting complex values to real discards the imaginary part\n",
      "  matrix[i,j] = hmat[subset[i], subset[j]]\n"
     ]
    }
   ],
   "source": [
    "from wallcheb.operators import generate_pytket_hvs_hubbard\n",
    "\n",
    "u = 1\n",
    "n_sites = 2\n",
    "m = 5\n",
    "product_block_encoding_qpo = generate_pytket_hvs_hubbard(u, n_sites, m)\n",
    "n_state_qubits = 2*n_sites\n"
   ]
  },
  {
   "cell_type": "code",
   "execution_count": 3,
   "id": "6ad04176",
   "metadata": {},
   "outputs": [],
   "source": [
    "n_prep_qubits = LCUMultiplexorBox(product_block_encoding_qpo[0], n_state_qubits).n_prepare_qubits"
   ]
  },
  {
   "cell_type": "code",
   "execution_count": 4,
   "id": "dff52498",
   "metadata": {},
   "outputs": [],
   "source": [
    "from pytket.passes import AutoRebase\n",
    "from pytket import OpType\n",
    "from pytket.passes import DecomposeBoxes\n",
    "\n",
    "\n",
    "def build_multiplexor_lcu(ham, n_state_qubits, ind):\n",
    "    multiplexor_lcu = LCUMultiplexorBox(ham, n_state_qubits)\n",
    "    \n",
    "\n",
    "    circ = multiplexor_lcu.get_circuit()\n",
    "    DecomposeBoxes().apply(circ)\n",
    "    rebase = AutoRebase({OpType.CX, OpType.Rz, OpType.H, OpType.CCX})\n",
    "    rebase.apply(circ)\n",
    "\n",
    "    from guppylang import guppy\n",
    "\n",
    "    qlibs_multiplexor_lcu = guppy.load_pytket(f\"qlibs_multiplexor_lcu_{ind}\", circ)\n",
    "    return qlibs_multiplexor_lcu"
   ]
  },
  {
   "cell_type": "code",
   "execution_count": 5,
   "id": "c40f31f4",
   "metadata": {},
   "outputs": [],
   "source": [
    "def guppy_multiplexor_lcu() -> array[Callable[[array[qubit, comptime(n_prep_qubits)], array[qubit, comptime(n_state_qubits)]],None], comptime(m)]:\n",
    "    u = 1\n",
    "    n_sites = 2\n",
    "    m = 5\n",
    "\n",
    "    product_block_encoding_qpo = generate_pytket_hvs_hubbard(int(u), int(n_sites), int(m))\n",
    "    n_state_qubits = 2*n_sites\n",
    "    guppy_circuits = [build_multiplexor_lcu(qpo, n_state_qubits, i) for i, qpo in enumerate(product_block_encoding_qpo)]\n",
    "    return guppy_circuits"
   ]
  },
  {
   "cell_type": "code",
   "execution_count": 6,
   "id": "53c1eed9",
   "metadata": {},
   "outputs": [],
   "source": [
    "guppy_circuits = guppy_multiplexor_lcu()"
   ]
  },
  {
   "cell_type": "code",
   "execution_count": 8,
   "id": "24cf1759",
   "metadata": {},
   "outputs": [],
   "source": [
    "from guppylang.std.builtins import comptime\n",
    "from guppylang.std.quantum import qubit, discard_array, measure, measure_array\n",
    "from hugr.qsystem.result import QsysResult\n",
    "from guppylang.std.builtins import result, array, exit\n",
    "from typing import Callable\n",
    "\n",
    "@guppy\n",
    "def product_block_encoding(prod_block_encoding: array[Callable[[array[qubit, comptime(n_prep_qubits)], array[qubit, comptime(n_state_qubits)]], None], comptime(m)], state_qreg: array[qubit, comptime(n_state_qubits)]) -> None:\n",
    "    \n",
    "\n",
    "    for prod_block in prod_block_encoding.copy():\n",
    "\n",
    "        prep_qreg = array(qubit() for _ in range(comptime(n_prep_qubits)))\n",
    "        prod_block(prep_qreg, state_qreg)\n",
    "\n",
    "        outcome = measure_array(prep_qreg)\n",
    "        # result(\"c\", measure_array(prep_qubits))\n",
    "        for b in outcome: \n",
    "            if b:\n",
    "                exit(\"circuit failed\",1)\n"
   ]
  },
  {
   "cell_type": "code",
   "execution_count": 9,
   "id": "299aa92b",
   "metadata": {},
   "outputs": [
    {
     "name": "stderr",
     "output_type": "stream",
     "text": [
      "Error: Unsupported Python expression (at <In [9]>:8:20)\n",
      "  | \n",
      "6 | \n",
      "7 | \n",
      "8 |     prod = comptime(guppy_circuits)\n",
      "  |                     ^^^^^^^^^^^^^^ Expression of type `<class 'list'>` is not supported\n",
      "\n",
      "Guppy compilation failed due to 1 previous error\n"
     ]
    }
   ],
   "source": [
    "@guppy\n",
    "def main() -> None:\n",
    "    \"\"\"Main function to run the multiplexor LCU circuit.\"\"\"\n",
    "    state_qreg = array(qubit() for _ in range(comptime(n_state_qubits)))\n",
    "    # The pytket function only acts on arrays\n",
    "\n",
    " \n",
    "    prod = comptime(guppy_circuits)\n",
    "\n",
    "    product_block_encoding(prod, state_qreg)\n",
    "\n",
    "    result('c',measure_array(state_qreg))\n",
    "\n",
    "compiled_hugr = guppy.compile(main)\n"
   ]
  },
  {
   "cell_type": "code",
   "execution_count": 8,
   "id": "fc41fe7a",
   "metadata": {},
   "outputs": [
    {
     "name": "stdout",
     "output_type": "stream",
     "text": [
      "Final state:Counter({'0000': 537, '1000': 37, '0001': 32, '0100': 8, '0010': 8, '1001': 4, '0011': 4, '0110': 3, '1010': 2, '1100': 2, '1011': 1, '0111': 1, '0101': 1}), when initial state is |000>\n",
      "Success probability (from circuits): 0.0080\n",
      "Success probability (from circuits): 0.0080\n"
     ]
    }
   ],
   "source": [
    "from hugr.qsystem.result import QsysResult\n",
    "from selene_sim import build, Quest\n",
    "\n",
    "n_shots = 80000\n",
    "runner = build(compiled_hugr)\n",
    "shots = QsysResult(\n",
    "    runner.run_shots(\n",
    "        Quest(random_seed=2), n_qubits=multiplexor_lcu.n_qubits, n_shots=n_shots\n",
    "    )\n",
    ")\n",
    "\n",
    "print(f'Final state:{shots.register_counts()[\"c\"]}, when initial state is |000>')\n",
    "\n",
    "shots_counts = shots.register_counts()[\"c\"]\n",
    "success_prob = sum(shots_counts.values())/ n_shots\n",
    "print(f\"Success probability (from circuits): {success_prob:.4f}\")"
   ]
  }
 ],
 "metadata": {
  "kernelspec": {
   "display_name": ".venv (3.13.1)",
   "language": "python",
   "name": "python3"
  },
  "language_info": {
   "codemirror_mode": {
    "name": "ipython",
    "version": 3
   },
   "file_extension": ".py",
   "mimetype": "text/x-python",
   "name": "python",
   "nbconvert_exporter": "python",
   "pygments_lexer": "ipython3",
   "version": "3.13.1"
  }
 },
 "nbformat": 4,
 "nbformat_minor": 5
}
