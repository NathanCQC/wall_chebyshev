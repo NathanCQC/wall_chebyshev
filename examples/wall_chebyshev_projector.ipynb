{
 "cells": [
  {
   "cell_type": "markdown",
   "id": "5f558145",
   "metadata": {},
   "source": [
    "# Wall Chebyshev Ground State Projector Circuits in Guppy"
   ]
  },
  {
   "cell_type": "code",
   "execution_count": 1,
   "id": "64adcf9d",
   "metadata": {},
   "outputs": [],
   "source": [
    "from wallcheb.qtmlib.circuits.lcu import LCUMultiplexorBox\n",
    "from guppylang import guppy\n",
    "from guppylang.std.builtins import comptime\n",
    "from guppylang.std.quantum import qubit, measure_array, h,x\n",
    "from guppylang.std.builtins import array, exit\n",
    "from typing import Callable\n",
    "from guppylang.std.debug import state_result\n"
   ]
  },
  {
   "cell_type": "markdown",
   "id": "32665b43",
   "metadata": {},
   "source": [
    "- Prepare each shift Hamiltonian in the product:\n",
    "\n",
    "$$\n",
    "    g^{\\text{wall-Ch}}_m(\\hat H) = \\prod_{\\nu=1}^m \\frac{\\hat H-a_{\\nu}}{S-a_{\\nu}}.\n",
    "$$\n",
    "\n",
    "Here $S$ is an estimate of the unkown ground state energy $E_0$ and $a_\\nu$ is defined in Eq. 16 in the paper. In this example $\\hat{H}$ is the Hubbard Hamiltonian:\n",
    "\n",
    "$$\n",
    "    \\hat{H} = -t \\sum_{\\langle i,j \\rangle} (c_i^\\dagger c_j + c_j^\\dagger c_i) + U \\sum_i n_{i\\uparrow} n_{i\\downarrow}\n",
    "$$\n",
    "\n",
    "where we set $t=1$."
   ]
  },
  {
   "cell_type": "code",
   "execution_count": 2,
   "id": "7d2beaff",
   "metadata": {},
   "outputs": [
    {
     "name": "stderr",
     "output_type": "stream",
     "text": [
      "/Users/nathanfitzpatric/Github/wall_chebyshev/wallcheb/operators/hubbard_model.py:54: ComplexWarning: Casting complex values to real discards the imaginary part\n",
      "  matrix[i,j] = hmat[subset[i], subset[j]]\n"
     ]
    }
   ],
   "source": [
    "from wallcheb.operators import generate_pytket_hvs_hubbard\n",
    "\n",
    "u = 1\n",
    "n_sites = 2\n",
    "m = 4\n",
    "product_block_encoding_qpo, hubbard_hamiltonian = generate_pytket_hvs_hubbard(u, n_sites, m)\n",
    "n_state_qubits = 2*n_sites\n"
   ]
  },
  {
   "cell_type": "markdown",
   "id": "8c6b4cfa",
   "metadata": {},
   "source": [
    "- For benchmarking the circuit implementation we obtain the exact ground state and its energy using exact diagonalization."
   ]
  },
  {
   "cell_type": "code",
   "execution_count": 3,
   "id": "5a1ce3d3",
   "metadata": {},
   "outputs": [
    {
     "data": {
      "text/plain": [
       "(matrix([[-0.00000000e+00-0.j],\n",
       "         [-0.00000000e+00-0.j],\n",
       "         [-2.22044605e-16+0.j],\n",
       "         [-4.35162146e-01+0.j],\n",
       "         [ 0.00000000e+00+0.j],\n",
       "         [ 0.00000000e+00+0.j],\n",
       "         [ 5.57345410e-01+0.j],\n",
       "         [ 0.00000000e+00+0.j],\n",
       "         [-9.49975516e-17+0.j],\n",
       "         [-5.57345410e-01+0.j],\n",
       "         [ 0.00000000e+00+0.j],\n",
       "         [ 0.00000000e+00+0.j],\n",
       "         [-4.35162146e-01+0.j],\n",
       "         [-0.00000000e+00+0.j],\n",
       "         [-0.00000000e+00+0.j],\n",
       "         [-0.00000000e+00-0.j]]),\n",
       " np.float64(-1.5615528128088303))"
      ]
     },
     "execution_count": 3,
     "metadata": {},
     "output_type": "execute_result"
    }
   ],
   "source": [
    "from numpy.linalg import eigh\n",
    "\n",
    "e,c = eigh(hubbard_hamiltonian)\n",
    "c[:,0], e[0]"
   ]
  },
  {
   "cell_type": "markdown",
   "id": "96ac5ce3",
   "metadata": {},
   "source": [
    "- We use the block encoding method from the [paper](https://arxiv.org/abs/2501.18515) called the Multiplexor LCU.\n",
    "- We intialise the first term to ger the number of prepare qubits for the LCUs."
   ]
  },
  {
   "cell_type": "code",
   "execution_count": 4,
   "id": "6ad04176",
   "metadata": {},
   "outputs": [],
   "source": [
    "lcu_box = LCUMultiplexorBox(product_block_encoding_qpo[0], n_state_qubits)\n",
    "n_prep_qubits = lcu_box.n_prepare_qubits\n",
    "n_qubits = n_prep_qubits + n_state_qubits"
   ]
  },
  {
   "cell_type": "markdown",
   "id": "8022b99b",
   "metadata": {},
   "source": [
    "- The block encoding was previously implemented in pytket, so we import it into guppy."
   ]
  },
  {
   "cell_type": "code",
   "execution_count": 5,
   "id": "dff52498",
   "metadata": {},
   "outputs": [],
   "source": [
    "from pytket.passes import AutoRebase\n",
    "from pytket import OpType\n",
    "from pytket.passes import DecomposeBoxes\n",
    "\n",
    "\n",
    "def build_multiplexor_lcu(ham, n_state_qubits, ind):\n",
    "    multiplexor_lcu = LCUMultiplexorBox(ham, n_state_qubits)\n",
    "    \n",
    "\n",
    "    circ = multiplexor_lcu.get_circuit()\n",
    "    DecomposeBoxes().apply(circ)\n",
    "    rebase = AutoRebase({OpType.CX, OpType.Rz, OpType.H, OpType.CCX})\n",
    "    rebase.apply(circ)\n",
    "\n",
    "\n",
    "    qlibs_multiplexor_lcu = guppy.load_pytket(f\"qlibs_multiplexor_lcu_{ind}\", circ)\n",
    "    return qlibs_multiplexor_lcu"
   ]
  },
  {
   "cell_type": "markdown",
   "id": "6e92787c",
   "metadata": {},
   "source": [
    "- To build the guppy circuits we need to run it at compile time and import into the main function."
   ]
  },
  {
   "cell_type": "code",
   "execution_count": 6,
   "id": "c40f31f4",
   "metadata": {},
   "outputs": [],
   "source": [
    "@guppy.comptime\n",
    "def guppy_prod_circs() -> array[Callable[[array[qubit, comptime(n_prep_qubits)], array[qubit, comptime(n_state_qubits)]],None], comptime(m)]:\n",
    "\n",
    "    guppy_circuits = [build_multiplexor_lcu(qpo, n_state_qubits, i) for i, qpo in enumerate(product_block_encoding_qpo)]\n",
    "    return guppy_circuits"
   ]
  },
  {
   "cell_type": "markdown",
   "id": "475e8e13",
   "metadata": {},
   "source": [
    "- The the individual LCU terms in product are provided as a list of guppy functions. \n",
    "- This are then appended together we the state register and the prepare register is measured and post selected."
   ]
  },
  {
   "cell_type": "code",
   "execution_count": 7,
   "id": "24cf1759",
   "metadata": {},
   "outputs": [],
   "source": [
    "from guppylang.std.builtins import comptime\n",
    "from guppylang.std.quantum import qubit, discard_array, measure, measure_array\n",
    "from hugr.qsystem.result import QsysResult\n",
    "from guppylang.std.builtins import result, array, exit\n",
    "from typing import Callable\n",
    "\n",
    "@guppy\n",
    "def product_block_encoding(prod_block_encoding: array[Callable[[array[qubit, comptime(n_prep_qubits)], array[qubit, comptime(n_state_qubits)]], None], comptime(m)], state_qreg: array[qubit, comptime(n_state_qubits)]) -> None:\n",
    "    \n",
    "\n",
    "    for prod_block in prod_block_encoding.copy():\n",
    "\n",
    "        prep_qreg = array(qubit() for _ in range(comptime(n_prep_qubits)))\n",
    "        prod_block(prep_qreg, state_qreg)\n",
    "\n",
    "        outcome = measure_array(prep_qreg)\n",
    "        # result(\"c\", measure_array(prep_qubits))\n",
    "        for b in outcome: \n",
    "            if b:\n",
    "                exit(\"circuit failed\",1)\n",
    "\n",
    "\n"
   ]
  },
  {
   "cell_type": "markdown",
   "id": "0238ea38",
   "metadata": {},
   "source": [
    "- We start from the Hartree-Fock state and then apply the products of block encodings\n",
    "- We then measure the final statevector\n",
    "- Note: This is only for testing - on a real quantum computer you cannot access the statevector directly."
   ]
  },
  {
   "cell_type": "code",
   "execution_count": 8,
   "id": "299aa92b",
   "metadata": {},
   "outputs": [],
   "source": [
    "@guppy\n",
    "def main() -> None:\n",
    "    \"\"\"Main function to run the multiplexor LCU circuit.\"\"\"\n",
    "    state_qreg = array(qubit() for _ in range(comptime(n_state_qubits)))\n",
    "    \n",
    "    x(state_qreg[0])  # Set the first qubit to |1> state\n",
    "    x(state_qreg[3])\n",
    "\n",
    "    prods = guppy_prod_circs()\n",
    "\n",
    "    product_block_encoding(prods, state_qreg)\n",
    "\n",
    "    state_result(\"gs\", state_qreg)\n",
    "    # result('c',measure_array(state_qreg))\n",
    "    discard_array(state_qreg)\n",
    "\n",
    "compiled_hugr = guppy.compile(main)\n"
   ]
  },
  {
   "cell_type": "markdown",
   "id": "fdc87e6f",
   "metadata": {},
   "source": [
    "- We then run the circuit with the get_state_vector method\n",
    "- Note: The for larger $m$ the success probability may be so low that no shots make it the end of the circuit and an will result in an error."
   ]
  },
  {
   "cell_type": "code",
   "execution_count": 9,
   "id": "7a82c1b8",
   "metadata": {},
   "outputs": [],
   "source": [
    "from wallcheb.utils import get_state_vector, compute_expectation\n",
    "\n",
    "sv = get_state_vector(compiled_hugr, n_qubits, n_shots=25000)\n",
    "expectation_value = compute_expectation(sv, hubbard_hamiltonian)\n",
    "    "
   ]
  },
  {
   "cell_type": "markdown",
   "id": "423a2ced",
   "metadata": {},
   "source": [
    "- The resulting projected energy:"
   ]
  },
  {
   "cell_type": "code",
   "execution_count": 17,
   "id": "e9622a04",
   "metadata": {},
   "outputs": [
    {
     "data": {
      "text/plain": [
       "matrix([[-1.52304659+0.j]])"
      ]
     },
     "execution_count": 17,
     "metadata": {},
     "output_type": "execute_result"
    }
   ],
   "source": [
    "expectation_value"
   ]
  },
  {
   "cell_type": "markdown",
   "id": "ec1b97cf",
   "metadata": {},
   "source": [
    "- Error is the expectation value of the Hamiltonian in the projected state."
   ]
  },
  {
   "cell_type": "code",
   "execution_count": 16,
   "id": "ebf3182a",
   "metadata": {},
   "outputs": [
    {
     "data": {
      "text/plain": [
       "matrix([[-0.03850622+0.j]])"
      ]
     },
     "execution_count": 16,
     "metadata": {},
     "output_type": "execute_result"
    }
   ],
   "source": [
    "e[0] - expectation_value"
   ]
  }
 ],
 "metadata": {
  "kernelspec": {
   "display_name": ".venv (3.13.1)",
   "language": "python",
   "name": "python3"
  },
  "language_info": {
   "codemirror_mode": {
    "name": "ipython",
    "version": 3
   },
   "file_extension": ".py",
   "mimetype": "text/x-python",
   "name": "python",
   "nbconvert_exporter": "python",
   "pygments_lexer": "ipython3",
   "version": "3.13.1"
  }
 },
 "nbformat": 4,
 "nbformat_minor": 5
}
