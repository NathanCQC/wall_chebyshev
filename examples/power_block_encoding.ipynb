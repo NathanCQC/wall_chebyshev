{
 "cells": [
  {
   "cell_type": "code",
   "execution_count": 1,
   "id": "64adcf9d",
   "metadata": {},
   "outputs": [],
   "source": [
    "from wallcheb.qtmlib.circuits.lcu import LCUMultiplexorBox"
   ]
  },
  {
   "cell_type": "code",
   "execution_count": 2,
   "id": "7d2beaff",
   "metadata": {},
   "outputs": [],
   "source": [
    "from wallcheb.operators import ising_model\n",
    "\n",
    "n_state_qubits = 4\n",
    "ham = ising_model(n_qubits=n_state_qubits, j=1.0, h=0.5)"
   ]
  },
  {
   "cell_type": "code",
   "execution_count": 3,
   "id": "6ad04176",
   "metadata": {},
   "outputs": [],
   "source": [
    "from pytket.circuit.display import render_circuit_jupyter\n",
    "\n",
    "multiplexor_lcu = LCUMultiplexorBox(ham, n_state_qubits)\n",
    "n_prep_qubits = multiplexor_lcu.n_prepare_qubits"
   ]
  },
  {
   "cell_type": "code",
   "execution_count": 4,
   "id": "dff52498",
   "metadata": {},
   "outputs": [],
   "source": [
    "from pytket.passes import AutoRebase\n",
    "from pytket import OpType\n",
    "from pytket.passes import DecomposeBoxes\n",
    "\n",
    "circ = multiplexor_lcu.get_circuit()\n",
    "DecomposeBoxes().apply(circ)\n",
    "rebase = AutoRebase({OpType.CX, OpType.Rz, OpType.H, OpType.CCX})\n",
    "rebase.apply(circ)\n",
    "\n",
    "from guppylang import guppy\n",
    "\n",
    "qlibs_multiplexor_lcu = guppy.load_pytket(\"qlibs_multiplexor_lcu\", circ)"
   ]
  },
  {
   "cell_type": "code",
   "execution_count": 5,
   "id": "3e001a0d",
   "metadata": {},
   "outputs": [
    {
     "name": "stdout",
     "output_type": "stream",
     "text": [
      "GuppyDefinition(wrapped=RawLoadPytketDef(id=DefId(id=309), name='qlibs_multiplexor_lcu', defined_at=None, source_span=None, input_circuit=[Rz(3.5) p[0]; Rz(3.5) p[1]; Rz(3.5) p[2]; Rz(3) q[0]; H q[1]; H q[2]; H q[3]; H p[0]; H p[1]; H p[2]; H q[0]; Rz(3.125) q[1]; Rz(2.875) q[2]; Rz(0.875) q[3]; Rz(0.36901) p[0]; Rz(0.423099) p[1]; Rz(0.347957) p[2]; Rz(2.875) q[0]; H p[0]; H p[1]; H p[2]; Rz(0.5) p[0]; Rz(0.5) p[1]; Rz(0.5) p[2]; CX p[0], p[1]; Rz(3.5) p[1]; H p[1]; Rz(0.0312722) p[1]; H p[1]; Rz(0.5) p[1]; CX p[0], p[1]; CX p[1], p[2]; Rz(3.5) p[2]; H p[2]; Rz(0.152043) p[2]; H p[2]; Rz(0.5) p[2]; CX p[0], p[2]; Rz(3.5) p[2]; H p[2]; Rz(3.90204) p[2]; H p[2]; Rz(0.5) p[2]; CX p[1], p[2]; CX p[1], q[2]; Rz(3.5) p[2]; H p[2]; Rz(0.875) q[2]; Rz(0.0979566) p[2]; H q[2]; H p[2]; Rz(0.375) q[2]; Rz(0.5) p[2]; H q[2]; CX p[0], p[2]; CX p[0], q[1]; CX p[2], q[0]; CX p[0], q[2]; CX p[2], q[3]; Rz(3.125) q[0]; Rz(2.375) q[1]; H q[0]; H q[1]; H q[2]; Rz(0.875) q[3]; Rz(0.875) q[0]; Rz(3.5) q[1]; Rz(0.625) q[2]; H q[3]; CX p[2], q[1]; H q[0]; H q[2]; Rz(0.25) q[3]; CX p[1], q[0]; Rz(3.5) q[1]; Rz(3.875) q[2]; H q[3]; CX p[1], q[3]; H q[0]; H q[1]; CX p[1], q[2]; Rz(0.125) q[0]; Rz(3.625) q[1]; Rz(1) q[3]; CX p[0], q[1]; H q[0]; Rz(0.875) q[2]; H q[3]; Rz(0.125) q[0]; Rz(2.875) q[1]; H q[2]; Rz(0.25) q[3]; CX p[2], q[0]; H q[1]; Rz(0.125) q[2]; H q[3]; Rz(2.375) q[0]; Rz(0.875) q[1]; H q[2]; Rz(3.125) q[3]; CX p[2], q[3]; H q[0]; H q[1]; CX p[1], q[1]; CX p[2], q[2]; Rz(3.5) q[0]; Rz(1.125) q[3]; CX p[0], q[0]; Rz(3) q[1]; Rz(1) q[2]; H q[3]; Rz(0.5) q[0]; H q[1]; H q[2]; Rz(0.125) q[3]; H q[0]; Rz(0.875) q[1]; Rz(0.125) q[2]; H q[3]; CX p[0], q[3]; Rz(3.375) q[0]; H q[1]; H q[2]; CX p[2], q[0]; Rz(3.875) q[1]; Rz(0.125) q[2]; Rz(1) q[3]; CX p[0], q[1]; CX p[1], q[2]; Rz(3.125) q[0]; H q[3]; H q[0]; Rz(1.125) q[1]; Rz(1.125) q[2]; Rz(0.125) q[3]; Rz(0.625) q[0]; H q[2]; H q[3]; H q[0]; Rz(0.125) q[2]; Rz(3.875) q[3]; CX p[1], q[0]; CX p[2], q[3]; H q[2]; CX p[0], q[2]; CX p[2], q[1]; H q[0]; Rz(0.875) q[3]; Rz(0.375) q[0]; Rz(0.125) q[1]; H q[2]; H q[3]; H q[0]; H q[1]; Rz(0.875) q[2]; Rz(0.25) q[3]; Rz(0.125) q[0]; Rz(1) q[1]; H q[2]; H q[3]; CX p[1], q[3]; CX p[2], q[0]; H q[1]; Rz(0.125) q[2]; CX p[0], q[1]; CX p[1], q[2]; Rz(0.875) q[0]; Rz(1) q[3]; H q[0]; Rz(3.125) q[1]; Rz(3.125) q[2]; H q[3]; Rz(3.125) q[0]; H q[1]; H q[2]; Rz(0.25) q[3]; Rz(3.75) q[0]; Rz(0.75) q[1]; Rz(3) q[2]; H q[3]; Rz(3.25) q[1]; Rz(3.75) q[2]; Rz(3.125) q[3]; CX p[0], q[1]; CX p[1], q[2]; CX p[2], q[3]; CX p[2], q[0]; Rz(0) q[1]; Rz(0) q[2]; Rz(3.125) q[3]; CX p[0], q[2]; Rz(3.875) q[0]; H q[3]; CX p[1], q[0]; Rz(0) q[2]; Rz(0.625) q[3]; Rz(3.875) q[0]; Rz(0.25) q[3]; CX p[2], q[3]; CX p[2], q[1]; Rz(3.875) q[3]; CX p[1], q[3]; CX p[2], q[0]; Rz(0.25) q[1]; CX p[0], q[1]; CX p[1], q[2]; Rz(0.375) q[0]; Rz(0.125) q[3]; CX p[0], q[0]; CX p[2], q[3]; Rz(3.75) q[1]; Rz(0.25) q[2]; CX p[1], q[1]; CX p[2], q[2]; Rz(3.375) q[0]; Rz(3.625) q[3]; CX p[0], q[3]; CX p[2], q[0]; Rz(0.75) q[1]; Rz(0.5) q[2]; CX p[0], q[1]; CX p[1], q[2]; Rz(3.875) q[0]; Rz(3.625) q[3]; CX p[1], q[0]; CX p[2], q[3]; Rz(0.25) q[1]; Rz(0.25) q[2]; CX p[0], q[2]; CX p[2], q[1]; Rz(3.875) q[0]; Rz(0.125) q[3]; CX p[1], q[3]; CX p[2], q[0]; Rz(0) q[1]; Rz(0.25) q[2]; CX p[0], q[1]; CX p[1], q[2]; Rz(3.875) q[0]; Rz(3.875) q[3]; CX p[0], q[0]; CX p[2], q[3]; Rz(0) q[1]; Rz(0) q[2]; CX p[1], q[1]; CX p[2], q[2]; Rz(3.875) q[3]; CX p[0], q[3]; Rz(0.5) p[2]; CX p[1], p[2]; Rz(0.5) p[2]; CX p[0], p[2]; Rz(3.75) p[2]; CX p[1], p[2]; Rz(0) p[1]; Rz(3.75) p[2]; CX p[0], p[2]; CX p[0], p[1]; Rz(3.5) p[2]; Rz(0.25) p[1]; H p[2]; CX p[0], p[1]; Rz(3.65204) p[2]; Rz(3.75) p[0]; H p[2]; Rz(0.5) p[2]; CX p[1], p[2]; Rz(3.5) p[2]; H p[2]; Rz(3.84796) p[2]; H p[2]; Rz(0.5) p[2]; CX p[0], p[2]; Rz(3.5) p[2]; H p[2]; Rz(0.0979566) p[2]; H p[2]; Rz(0.5) p[2]; CX p[1], p[2]; Rz(3.5) p[1]; Rz(3.5) p[2]; H p[1]; H p[2]; Rz(3.5769) p[1]; Rz(3.90204) p[2]; H p[1]; H p[2]; Rz(0.5) p[1]; Rz(0.5) p[2]; CX p[0], p[2]; CX p[0], p[1]; Rz(3.5) p[1]; H p[1]; Rz(3.96873) p[1]; H p[1]; Rz(0.5) p[1]; CX p[0], p[1]; Rz(3.5) p[0]; H p[0]; Rz(3.63099) p[0]; H p[0]; Rz(0.5) p[0]; ], use_arrays=True, description='pytket circuit'))\n"
     ]
    }
   ],
   "source": [
    "print(qlibs_multiplexor_lcu)"
   ]
  },
  {
   "cell_type": "code",
   "execution_count": 6,
   "id": "24cf1759",
   "metadata": {},
   "outputs": [],
   "source": [
    "from guppylang.std.builtins import comptime\n",
    "from guppylang.std.quantum import qubit, discard_array, measure, measure_array\n",
    "from hugr.qsystem.result import QsysResult\n",
    "from guppylang.std.builtins import result, array, exit\n",
    "from typing import Callable\n",
    "\n",
    "@guppy\n",
    "def power_block_encoding(power:int, block_encoding: Callable[[array[qubit, comptime(n_prep_qubits)], array[qubit, comptime(n_state_qubits)]], None], state_qreg: array[qubit,comptime(n_state_qubits)]) -> None:\n",
    "\n",
    "    for i in range(power):\n",
    "\n",
    "        prep_qreg = array(qubit() for _ in range(comptime(n_prep_qubits)))\n",
    "        block_encoding(prep_qreg, state_qreg)\n",
    "        \n",
    "        outcome = measure_array(prep_qreg)\n",
    "        \n",
    "        for b in outcome: \n",
    "            if b:\n",
    "                exit(\"circuit failed\",1)\n"
   ]
  },
  {
   "cell_type": "code",
   "execution_count": 7,
   "id": "299aa92b",
   "metadata": {},
   "outputs": [],
   "source": [
    "@guppy\n",
    "def main() -> None:\n",
    "    \"\"\"Main function to run the multiplexor LCU circuit.\"\"\"\n",
    "    state_qreg = array(qubit() for _ in range(comptime(n_state_qubits)))\n",
    "\n",
    "    block_encoding = qlibs_multiplexor_lcu\n",
    "    power = 7\n",
    "\n",
    "    power_block_encoding(power, block_encoding, state_qreg)\n",
    "\n",
    "    result('c',measure_array(state_qreg))\n",
    "\n",
    "compiled_hugr = guppy.compile(main)\n"
   ]
  },
  {
   "cell_type": "code",
   "execution_count": 8,
   "id": "fc41fe7a",
   "metadata": {},
   "outputs": [
    {
     "name": "stdout",
     "output_type": "stream",
     "text": [
      "Final state:Counter({'0000': 235, '1000': 19, '0001': 18, '0100': 7, '0010': 4, '0111': 1, '1001': 1, '1111': 1}), when initial state is |000>\n",
      "Success probability (from circuits): 0.0036\n"
     ]
    }
   ],
   "source": [
    "from hugr.qsystem.result import QsysResult\n",
    "from selene_sim import build, Quest\n",
    "\n",
    "n_shots = 80000\n",
    "runner = build(compiled_hugr)\n",
    "shots = QsysResult(\n",
    "    runner.run_shots(\n",
    "        Quest(random_seed=2), n_qubits=multiplexor_lcu.n_qubits, n_shots=n_shots\n",
    "    )\n",
    ")\n",
    "\n",
    "print(f'Final state:{shots.register_counts()[\"c\"]}, when initial state is |000>')\n",
    "\n",
    "shots_counts = shots.register_counts()[\"c\"]\n",
    "success_prob = sum(shots_counts.values())/ n_shots\n",
    "print(f\"Success probability (from circuits): {success_prob:.4f}\")"
   ]
  },
  {
   "cell_type": "code",
   "execution_count": null,
   "id": "82c13ffb",
   "metadata": {},
   "outputs": [],
   "source": []
  }
 ],
 "metadata": {
  "kernelspec": {
   "display_name": ".venv (3.13.1)",
   "language": "python",
   "name": "python3"
  },
  "language_info": {
   "codemirror_mode": {
    "name": "ipython",
    "version": 3
   },
   "file_extension": ".py",
   "mimetype": "text/x-python",
   "name": "python",
   "nbconvert_exporter": "python",
   "pygments_lexer": "ipython3",
   "version": "3.13.1"
  }
 },
 "nbformat": 4,
 "nbformat_minor": 5
}
